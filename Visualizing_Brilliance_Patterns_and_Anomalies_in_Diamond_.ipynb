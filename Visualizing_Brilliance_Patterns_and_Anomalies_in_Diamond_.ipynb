{
 "cells": [
  {
   "cell_type": "code",
   "execution_count": 1,
   "metadata": {
    "id": "Y1G2CLdEDfc8"
   },
   "outputs": [],
   "source": [
    "import pandas as pd\n",
    "pd.set_option('display.max_columns', 5000)"
   ]
  },
  {
   "cell_type": "markdown",
   "metadata": {
    "id": "ftIvZnZDFTP0"
   },
   "source": [
    "# Load dataset"
   ]
  },
  {
   "cell_type": "code",
   "execution_count": 2,
   "metadata": {
    "colab": {
     "base_uri": "https://localhost:8080/",
     "height": 206
    },
    "id": "vajxmY8rEw7q",
    "outputId": "252f5563-a040-43b9-9726-38a8b3e53f14"
   },
   "outputs": [
    {
     "data": {
      "application/vnd.google.colaboratory.intrinsic+json": {
       "summary": "{\n  \"name\": \"display(diamond_df\",\n  \"rows\": 5,\n  \"fields\": [\n    {\n      \"column\": \"path_to_img\",\n      \"properties\": {\n        \"dtype\": \"string\",\n        \"samples\": [\n          \"web_scraped/cushion/2042329.jpg\",\n          \"web_scraped/cushion/2103991.jpg\",\n          \"web_scraped/cushion/2055268.jpg\"\n        ],\n        \"num_unique_values\": 5,\n        \"semantic_type\": \"\",\n        \"description\": \"\"\n      }\n    },\n    {\n      \"column\": \"stock_number\",\n      \"properties\": {\n        \"dtype\": \"string\",\n        \"samples\": [\n          \"2042329\",\n          \"2103991\",\n          \"2055268\"\n        ],\n        \"num_unique_values\": 5,\n        \"semantic_type\": \"\",\n        \"description\": \"\"\n      }\n    },\n    {\n      \"column\": \"shape\",\n      \"properties\": {\n        \"dtype\": \"category\",\n        \"samples\": [\n          \"cushion\"\n        ],\n        \"num_unique_values\": 1,\n        \"semantic_type\": \"\",\n        \"description\": \"\"\n      }\n    },\n    {\n      \"column\": \"carat\",\n      \"properties\": {\n        \"dtype\": \"number\",\n        \"std\": 0.02073644135332774,\n        \"min\": 0.5,\n        \"max\": 0.55,\n        \"samples\": [\n          0.52\n        ],\n        \"num_unique_values\": 4,\n        \"semantic_type\": \"\",\n        \"description\": \"\"\n      }\n    },\n    {\n      \"column\": \"clarity\",\n      \"properties\": {\n        \"dtype\": \"string\",\n        \"samples\": [\n          \"SI2\"\n        ],\n        \"num_unique_values\": 3,\n        \"semantic_type\": \"\",\n        \"description\": \"\"\n      }\n    },\n    {\n      \"column\": \"colour\",\n      \"properties\": {\n        \"dtype\": \"string\",\n        \"samples\": [\n          \"Y-Z\"\n        ],\n        \"num_unique_values\": 4,\n        \"semantic_type\": \"\",\n        \"description\": \"\"\n      }\n    },\n    {\n      \"column\": \"cut\",\n      \"properties\": {\n        \"dtype\": \"category\",\n        \"samples\": [\n          \"EX\"\n        ],\n        \"num_unique_values\": 2,\n        \"semantic_type\": \"\",\n        \"description\": \"\"\n      }\n    },\n    {\n      \"column\": \"polish\",\n      \"properties\": {\n        \"dtype\": \"category\",\n        \"samples\": [\n          \"EX\"\n        ],\n        \"num_unique_values\": 1,\n        \"semantic_type\": \"\",\n        \"description\": \"\"\n      }\n    },\n    {\n      \"column\": \"symmetry\",\n      \"properties\": {\n        \"dtype\": \"category\",\n        \"samples\": [\n          \"VG\"\n        ],\n        \"num_unique_values\": 1,\n        \"semantic_type\": \"\",\n        \"description\": \"\"\n      }\n    },\n    {\n      \"column\": \"fluorescence\",\n      \"properties\": {\n        \"dtype\": \"category\",\n        \"samples\": [\n          \"F\"\n        ],\n        \"num_unique_values\": 2,\n        \"semantic_type\": \"\",\n        \"description\": \"\"\n      }\n    },\n    {\n      \"column\": \"lab\",\n      \"properties\": {\n        \"dtype\": \"category\",\n        \"samples\": [\n          \"GIA\"\n        ],\n        \"num_unique_values\": 1,\n        \"semantic_type\": \"\",\n        \"description\": \"\"\n      }\n    },\n    {\n      \"column\": \"length\",\n      \"properties\": {\n        \"dtype\": \"number\",\n        \"std\": 0.19243180610283744,\n        \"min\": 4.4,\n        \"max\": 4.87,\n        \"samples\": [\n          4.4\n        ],\n        \"num_unique_values\": 5,\n        \"semantic_type\": \"\",\n        \"description\": \"\"\n      }\n    },\n    {\n      \"column\": \"width\",\n      \"properties\": {\n        \"dtype\": \"number\",\n        \"std\": 0.10802777420645125,\n        \"min\": 4.19,\n        \"max\": 4.44,\n        \"samples\": [\n          4.31\n        ],\n        \"num_unique_values\": 4,\n        \"semantic_type\": \"\",\n        \"description\": \"\"\n      }\n    },\n    {\n      \"column\": \"depth\",\n      \"properties\": {\n        \"dtype\": \"number\",\n        \"std\": 0.1054514106117125,\n        \"min\": 2.84,\n        \"max\": 3.09,\n        \"samples\": [\n          2.99\n        ],\n        \"num_unique_values\": 5,\n        \"semantic_type\": \"\",\n        \"description\": \"\"\n      }\n    }\n  ]\n}",
       "type": "dataframe"
      },
      "text/html": [
       "\n",
       "  <div id=\"df-ff1748a6-73cd-4300-9fb4-5c8a57829a63\" class=\"colab-df-container\">\n",
       "    <div>\n",
       "<style scoped>\n",
       "    .dataframe tbody tr th:only-of-type {\n",
       "        vertical-align: middle;\n",
       "    }\n",
       "\n",
       "    .dataframe tbody tr th {\n",
       "        vertical-align: top;\n",
       "    }\n",
       "\n",
       "    .dataframe thead th {\n",
       "        text-align: right;\n",
       "    }\n",
       "</style>\n",
       "<table border=\"1\" class=\"dataframe\">\n",
       "  <thead>\n",
       "    <tr style=\"text-align: right;\">\n",
       "      <th></th>\n",
       "      <th>path_to_img</th>\n",
       "      <th>stock_number</th>\n",
       "      <th>shape</th>\n",
       "      <th>carat</th>\n",
       "      <th>clarity</th>\n",
       "      <th>colour</th>\n",
       "      <th>cut</th>\n",
       "      <th>polish</th>\n",
       "      <th>symmetry</th>\n",
       "      <th>fluorescence</th>\n",
       "      <th>lab</th>\n",
       "      <th>length</th>\n",
       "      <th>width</th>\n",
       "      <th>depth</th>\n",
       "    </tr>\n",
       "  </thead>\n",
       "  <tbody>\n",
       "    <tr>\n",
       "      <th>0</th>\n",
       "      <td>web_scraped/cushion/2106452.jpg</td>\n",
       "      <td>2106452</td>\n",
       "      <td>cushion</td>\n",
       "      <td>0.55</td>\n",
       "      <td>SI2</td>\n",
       "      <td>N</td>\n",
       "      <td>VG</td>\n",
       "      <td>EX</td>\n",
       "      <td>VG</td>\n",
       "      <td>N</td>\n",
       "      <td>GIA</td>\n",
       "      <td>4.56</td>\n",
       "      <td>4.44</td>\n",
       "      <td>3.09</td>\n",
       "    </tr>\n",
       "    <tr>\n",
       "      <th>1</th>\n",
       "      <td>web_scraped/cushion/2042329.jpg</td>\n",
       "      <td>2042329</td>\n",
       "      <td>cushion</td>\n",
       "      <td>0.52</td>\n",
       "      <td>SI2</td>\n",
       "      <td>Y-Z</td>\n",
       "      <td>EX</td>\n",
       "      <td>EX</td>\n",
       "      <td>VG</td>\n",
       "      <td>F</td>\n",
       "      <td>GIA</td>\n",
       "      <td>4.40</td>\n",
       "      <td>4.31</td>\n",
       "      <td>2.99</td>\n",
       "    </tr>\n",
       "    <tr>\n",
       "      <th>2</th>\n",
       "      <td>web_scraped/cushion/2055268.jpg</td>\n",
       "      <td>2055268</td>\n",
       "      <td>cushion</td>\n",
       "      <td>0.50</td>\n",
       "      <td>SI1</td>\n",
       "      <td>L</td>\n",
       "      <td>VG</td>\n",
       "      <td>EX</td>\n",
       "      <td>VG</td>\n",
       "      <td>N</td>\n",
       "      <td>GIA</td>\n",
       "      <td>4.87</td>\n",
       "      <td>4.19</td>\n",
       "      <td>2.89</td>\n",
       "    </tr>\n",
       "    <tr>\n",
       "      <th>3</th>\n",
       "      <td>web_scraped/cushion/2128779.jpg</td>\n",
       "      <td>2128779</td>\n",
       "      <td>cushion</td>\n",
       "      <td>0.50</td>\n",
       "      <td>VS2</td>\n",
       "      <td>M</td>\n",
       "      <td>EX</td>\n",
       "      <td>EX</td>\n",
       "      <td>VG</td>\n",
       "      <td>F</td>\n",
       "      <td>GIA</td>\n",
       "      <td>4.73</td>\n",
       "      <td>4.28</td>\n",
       "      <td>2.84</td>\n",
       "    </tr>\n",
       "    <tr>\n",
       "      <th>4</th>\n",
       "      <td>web_scraped/cushion/2103991.jpg</td>\n",
       "      <td>2103991</td>\n",
       "      <td>cushion</td>\n",
       "      <td>0.51</td>\n",
       "      <td>SI1</td>\n",
       "      <td>M</td>\n",
       "      <td>EX</td>\n",
       "      <td>EX</td>\n",
       "      <td>VG</td>\n",
       "      <td>N</td>\n",
       "      <td>GIA</td>\n",
       "      <td>4.47</td>\n",
       "      <td>4.44</td>\n",
       "      <td>3.05</td>\n",
       "    </tr>\n",
       "  </tbody>\n",
       "</table>\n",
       "</div>\n",
       "    <div class=\"colab-df-buttons\">\n",
       "\n",
       "  <div class=\"colab-df-container\">\n",
       "    <button class=\"colab-df-convert\" onclick=\"convertToInteractive('df-ff1748a6-73cd-4300-9fb4-5c8a57829a63')\"\n",
       "            title=\"Convert this dataframe to an interactive table.\"\n",
       "            style=\"display:none;\">\n",
       "\n",
       "  <svg xmlns=\"http://www.w3.org/2000/svg\" height=\"24px\" viewBox=\"0 -960 960 960\">\n",
       "    <path d=\"M120-120v-720h720v720H120Zm60-500h600v-160H180v160Zm220 220h160v-160H400v160Zm0 220h160v-160H400v160ZM180-400h160v-160H180v160Zm440 0h160v-160H620v160ZM180-180h160v-160H180v160Zm440 0h160v-160H620v160Z\"/>\n",
       "  </svg>\n",
       "    </button>\n",
       "\n",
       "  <style>\n",
       "    .colab-df-container {\n",
       "      display:flex;\n",
       "      gap: 12px;\n",
       "    }\n",
       "\n",
       "    .colab-df-convert {\n",
       "      background-color: #E8F0FE;\n",
       "      border: none;\n",
       "      border-radius: 50%;\n",
       "      cursor: pointer;\n",
       "      display: none;\n",
       "      fill: #1967D2;\n",
       "      height: 32px;\n",
       "      padding: 0 0 0 0;\n",
       "      width: 32px;\n",
       "    }\n",
       "\n",
       "    .colab-df-convert:hover {\n",
       "      background-color: #E2EBFA;\n",
       "      box-shadow: 0px 1px 2px rgba(60, 64, 67, 0.3), 0px 1px 3px 1px rgba(60, 64, 67, 0.15);\n",
       "      fill: #174EA6;\n",
       "    }\n",
       "\n",
       "    .colab-df-buttons div {\n",
       "      margin-bottom: 4px;\n",
       "    }\n",
       "\n",
       "    [theme=dark] .colab-df-convert {\n",
       "      background-color: #3B4455;\n",
       "      fill: #D2E3FC;\n",
       "    }\n",
       "\n",
       "    [theme=dark] .colab-df-convert:hover {\n",
       "      background-color: #434B5C;\n",
       "      box-shadow: 0px 1px 3px 1px rgba(0, 0, 0, 0.15);\n",
       "      filter: drop-shadow(0px 1px 2px rgba(0, 0, 0, 0.3));\n",
       "      fill: #FFFFFF;\n",
       "    }\n",
       "  </style>\n",
       "\n",
       "    <script>\n",
       "      const buttonEl =\n",
       "        document.querySelector('#df-ff1748a6-73cd-4300-9fb4-5c8a57829a63 button.colab-df-convert');\n",
       "      buttonEl.style.display =\n",
       "        google.colab.kernel.accessAllowed ? 'block' : 'none';\n",
       "\n",
       "      async function convertToInteractive(key) {\n",
       "        const element = document.querySelector('#df-ff1748a6-73cd-4300-9fb4-5c8a57829a63');\n",
       "        const dataTable =\n",
       "          await google.colab.kernel.invokeFunction('convertToInteractive',\n",
       "                                                    [key], {});\n",
       "        if (!dataTable) return;\n",
       "\n",
       "        const docLinkHtml = 'Like what you see? Visit the ' +\n",
       "          '<a target=\"_blank\" href=https://colab.research.google.com/notebooks/data_table.ipynb>data table notebook</a>'\n",
       "          + ' to learn more about interactive tables.';\n",
       "        element.innerHTML = '';\n",
       "        dataTable['output_type'] = 'display_data';\n",
       "        await google.colab.output.renderOutput(dataTable, element);\n",
       "        const docLink = document.createElement('div');\n",
       "        docLink.innerHTML = docLinkHtml;\n",
       "        element.appendChild(docLink);\n",
       "      }\n",
       "    </script>\n",
       "  </div>\n",
       "\n",
       "\n",
       "<div id=\"df-099de841-b94b-4d1c-a932-63b1ebc28040\">\n",
       "  <button class=\"colab-df-quickchart\" onclick=\"quickchart('df-099de841-b94b-4d1c-a932-63b1ebc28040')\"\n",
       "            title=\"Suggest charts\"\n",
       "            style=\"display:none;\">\n",
       "\n",
       "<svg xmlns=\"http://www.w3.org/2000/svg\" height=\"24px\"viewBox=\"0 0 24 24\"\n",
       "     width=\"24px\">\n",
       "    <g>\n",
       "        <path d=\"M19 3H5c-1.1 0-2 .9-2 2v14c0 1.1.9 2 2 2h14c1.1 0 2-.9 2-2V5c0-1.1-.9-2-2-2zM9 17H7v-7h2v7zm4 0h-2V7h2v10zm4 0h-2v-4h2v4z\"/>\n",
       "    </g>\n",
       "</svg>\n",
       "  </button>\n",
       "\n",
       "<style>\n",
       "  .colab-df-quickchart {\n",
       "      --bg-color: #E8F0FE;\n",
       "      --fill-color: #1967D2;\n",
       "      --hover-bg-color: #E2EBFA;\n",
       "      --hover-fill-color: #174EA6;\n",
       "      --disabled-fill-color: #AAA;\n",
       "      --disabled-bg-color: #DDD;\n",
       "  }\n",
       "\n",
       "  [theme=dark] .colab-df-quickchart {\n",
       "      --bg-color: #3B4455;\n",
       "      --fill-color: #D2E3FC;\n",
       "      --hover-bg-color: #434B5C;\n",
       "      --hover-fill-color: #FFFFFF;\n",
       "      --disabled-bg-color: #3B4455;\n",
       "      --disabled-fill-color: #666;\n",
       "  }\n",
       "\n",
       "  .colab-df-quickchart {\n",
       "    background-color: var(--bg-color);\n",
       "    border: none;\n",
       "    border-radius: 50%;\n",
       "    cursor: pointer;\n",
       "    display: none;\n",
       "    fill: var(--fill-color);\n",
       "    height: 32px;\n",
       "    padding: 0;\n",
       "    width: 32px;\n",
       "  }\n",
       "\n",
       "  .colab-df-quickchart:hover {\n",
       "    background-color: var(--hover-bg-color);\n",
       "    box-shadow: 0 1px 2px rgba(60, 64, 67, 0.3), 0 1px 3px 1px rgba(60, 64, 67, 0.15);\n",
       "    fill: var(--button-hover-fill-color);\n",
       "  }\n",
       "\n",
       "  .colab-df-quickchart-complete:disabled,\n",
       "  .colab-df-quickchart-complete:disabled:hover {\n",
       "    background-color: var(--disabled-bg-color);\n",
       "    fill: var(--disabled-fill-color);\n",
       "    box-shadow: none;\n",
       "  }\n",
       "\n",
       "  .colab-df-spinner {\n",
       "    border: 2px solid var(--fill-color);\n",
       "    border-color: transparent;\n",
       "    border-bottom-color: var(--fill-color);\n",
       "    animation:\n",
       "      spin 1s steps(1) infinite;\n",
       "  }\n",
       "\n",
       "  @keyframes spin {\n",
       "    0% {\n",
       "      border-color: transparent;\n",
       "      border-bottom-color: var(--fill-color);\n",
       "      border-left-color: var(--fill-color);\n",
       "    }\n",
       "    20% {\n",
       "      border-color: transparent;\n",
       "      border-left-color: var(--fill-color);\n",
       "      border-top-color: var(--fill-color);\n",
       "    }\n",
       "    30% {\n",
       "      border-color: transparent;\n",
       "      border-left-color: var(--fill-color);\n",
       "      border-top-color: var(--fill-color);\n",
       "      border-right-color: var(--fill-color);\n",
       "    }\n",
       "    40% {\n",
       "      border-color: transparent;\n",
       "      border-right-color: var(--fill-color);\n",
       "      border-top-color: var(--fill-color);\n",
       "    }\n",
       "    60% {\n",
       "      border-color: transparent;\n",
       "      border-right-color: var(--fill-color);\n",
       "    }\n",
       "    80% {\n",
       "      border-color: transparent;\n",
       "      border-right-color: var(--fill-color);\n",
       "      border-bottom-color: var(--fill-color);\n",
       "    }\n",
       "    90% {\n",
       "      border-color: transparent;\n",
       "      border-bottom-color: var(--fill-color);\n",
       "    }\n",
       "  }\n",
       "</style>\n",
       "\n",
       "  <script>\n",
       "    async function quickchart(key) {\n",
       "      const quickchartButtonEl =\n",
       "        document.querySelector('#' + key + ' button');\n",
       "      quickchartButtonEl.disabled = true;  // To prevent multiple clicks.\n",
       "      quickchartButtonEl.classList.add('colab-df-spinner');\n",
       "      try {\n",
       "        const charts = await google.colab.kernel.invokeFunction(\n",
       "            'suggestCharts', [key], {});\n",
       "      } catch (error) {\n",
       "        console.error('Error during call to suggestCharts:', error);\n",
       "      }\n",
       "      quickchartButtonEl.classList.remove('colab-df-spinner');\n",
       "      quickchartButtonEl.classList.add('colab-df-quickchart-complete');\n",
       "    }\n",
       "    (() => {\n",
       "      let quickchartButtonEl =\n",
       "        document.querySelector('#df-099de841-b94b-4d1c-a932-63b1ebc28040 button');\n",
       "      quickchartButtonEl.style.display =\n",
       "        google.colab.kernel.accessAllowed ? 'block' : 'none';\n",
       "    })();\n",
       "  </script>\n",
       "</div>\n",
       "\n",
       "    </div>\n",
       "  </div>\n"
      ],
      "text/plain": [
       "                       path_to_img stock_number    shape  carat clarity  \\\n",
       "0  web_scraped/cushion/2106452.jpg      2106452  cushion   0.55     SI2   \n",
       "1  web_scraped/cushion/2042329.jpg      2042329  cushion   0.52     SI2   \n",
       "2  web_scraped/cushion/2055268.jpg      2055268  cushion   0.50     SI1   \n",
       "3  web_scraped/cushion/2128779.jpg      2128779  cushion   0.50     VS2   \n",
       "4  web_scraped/cushion/2103991.jpg      2103991  cushion   0.51     SI1   \n",
       "\n",
       "  colour cut polish symmetry fluorescence  lab  length  width  depth  \n",
       "0      N  VG     EX       VG            N  GIA    4.56   4.44   3.09  \n",
       "1    Y-Z  EX     EX       VG            F  GIA    4.40   4.31   2.99  \n",
       "2      L  VG     EX       VG            N  GIA    4.87   4.19   2.89  \n",
       "3      M  EX     EX       VG            F  GIA    4.73   4.28   2.84  \n",
       "4      M  EX     EX       VG            N  GIA    4.47   4.44   3.05  "
      ]
     },
     "metadata": {},
     "output_type": "display_data"
    }
   ],
   "source": [
    "diamond_df = pd.read_csv('/content/drive/MyDrive/Diamonds/diamond_data.csv')\n",
    "display(diamond_df.head())"
   ]
  },
  {
   "cell_type": "code",
   "execution_count": 3,
   "metadata": {
    "colab": {
     "base_uri": "https://localhost:8080/",
     "height": 399
    },
    "id": "BZ_8RJuuFCEh",
    "outputId": "ba3332c8-5732-4e96-914c-e11f099b6dfa"
   },
   "outputs": [
    {
     "name": "stdout",
     "output_type": "stream",
     "text": [
      "<class 'pandas.core.frame.DataFrame'>\n",
      "RangeIndex: 48765 entries, 0 to 48764\n",
      "Data columns (total 14 columns):\n",
      " #   Column        Non-Null Count  Dtype  \n",
      "---  ------        --------------  -----  \n",
      " 0   path_to_img   48765 non-null  object \n",
      " 1   stock_number  48765 non-null  object \n",
      " 2   shape         48765 non-null  object \n",
      " 3   carat         48765 non-null  float64\n",
      " 4   clarity       48727 non-null  object \n",
      " 5   colour        48765 non-null  object \n",
      " 6   cut           47750 non-null  object \n",
      " 7   polish        48763 non-null  object \n",
      " 8   symmetry      48763 non-null  object \n",
      " 9   fluorescence  48765 non-null  object \n",
      " 10  lab           48765 non-null  object \n",
      " 11  length        48765 non-null  float64\n",
      " 12  width         48765 non-null  float64\n",
      " 13  depth         48765 non-null  float64\n",
      "dtypes: float64(4), object(10)\n",
      "memory usage: 5.2+ MB\n"
     ]
    },
    {
     "data": {
      "text/plain": [
       "None"
      ]
     },
     "metadata": {},
     "output_type": "display_data"
    }
   ],
   "source": [
    "display(diamond_df.info())"
   ]
  },
  {
   "cell_type": "markdown",
   "metadata": {
    "id": "W3ME09jeFPD9"
   },
   "source": [
    "# Data cleaning"
   ]
  },
  {
   "cell_type": "code",
   "execution_count": 38,
   "metadata": {
    "id": "i3sxE79cFFex"
   },
   "outputs": [],
   "source": [
    "import imghdr\n",
    "from pathlib import Path\n",
    "\n",
    "def validate_jpeg_file(x):\n",
    "    fullpath = Path('/content/drive/MyDrive/Diamonds') / x\n",
    "    try:\n",
    "      img_type = imghdr.what(fullpath)\n",
    "      ret = (img_type in ['jpeg'])\n",
    "      if not ret:\n",
    "          print(f'{fullpath} is not a jpeg. It is {img_type}')\n",
    "    except:\n",
    "      return False\n",
    "    return ret\n",
    "\n",
    "def drop_broken_rows(df):\n",
    "    valid = df['path_to_img'].map(validate_jpeg_file)\n",
    "    return df.loc[valid]"
   ]
  },
  {
   "cell_type": "code",
   "execution_count": 39,
   "metadata": {
    "id": "gibBYKKWICY0"
   },
   "outputs": [],
   "source": [
    "diamond_df = drop_broken_rows(diamond_df)\n",
    "diamond_df = diamond_df.loc[-diamond_df['stock_number'].isin(['220376-42', '220188-630'])]"
   ]
  },
  {
   "cell_type": "code",
   "execution_count": 40,
   "metadata": {
    "colab": {
     "base_uri": "https://localhost:8080/"
    },
    "id": "wWA_WEBJIHC7",
    "outputId": "b5677aba-420f-4298-d37a-99ae50c0201a"
   },
   "outputs": [
    {
     "name": "stdout",
     "output_type": "stream",
     "text": [
      "(814, 14)\n"
     ]
    }
   ],
   "source": [
    "print(diamond_df.shape)"
   ]
  },
  {
   "cell_type": "markdown",
   "metadata": {
    "id": "yd8ktrohIMiY"
   },
   "source": [
    "# Data exploration"
   ]
  },
  {
   "cell_type": "code",
   "execution_count": 43,
   "metadata": {
    "id": "IWp1u2gzIKJD"
   },
   "outputs": [],
   "source": [
    "from pathlib import Path\n",
    "from PIL import Image\n",
    "import matplotlib.pyplot as plt\n",
    "\n",
    "def display_diamond(stock_number, df = diamond_df):\n",
    "    x = df.loc[df['stock_number'] == stock_number].iloc[0]\n",
    "    path = Path('/content/drive/MyDrive/Diamonds') / x['path_to_img']\n",
    "    image = Image.open(path)\n",
    "    plt.imshow(image);\n",
    "    display(x)\n",
    "    print('Image size:', image.size)\n",
    "    print('Image mode:', image.mode)\n",
    "    return x"
   ]
  },
  {
   "cell_type": "code",
   "execution_count": 44,
   "metadata": {
    "id": "gMBW6gJ7IV-i"
   },
   "outputs": [],
   "source": [
    "import seaborn as sns"
   ]
  },
  {
   "cell_type": "code",
   "execution_count": 45,
   "metadata": {
    "colab": {
     "base_uri": "https://localhost:8080/",
     "height": 449
    },
    "id": "44EzIPdyIY6a",
    "outputId": "305b0fd6-9eb2-40ae-d315-c4a67ab13640"
   },
   "outputs": [
    {
     "data": {
      "image/png": "[encoded data removed]",
      "text/plain": [
       "<Figure size 640x480 with 1 Axes>"
      ]
     },
     "metadata": {},
     "output_type": "display_data"
    }
   ],
   "source": [
    "sns.countplot(x = diamond_df['shape']);"
   ]
  },
  {
   "cell_type": "markdown",
   "metadata": {
    "id": "26Vp1czvIuI4"
   },
   "source": [
    "# Prepare dataset"
   ]
  },
  {
   "cell_type": "markdown",
   "metadata": {
    "id": "hB7jZrSrIww_"
   },
   "source": [
    "Split dataset into train, validation, and test sets."
   ]
  },
  {
   "cell_type": "code",
   "execution_count": 46,
   "metadata": {
    "id": "aZuVN4egIo1C"
   },
   "outputs": [],
   "source": [
    "from sklearn.model_selection import StratifiedShuffleSplit\n",
    "\n",
    "def split_strat_shape(df, test_size = 0.2, random_state = 0):\n",
    "    splitter = StratifiedShuffleSplit(test_size = test_size, random_state = random_state)\n",
    "    train_idx, test_idx = next(splitter.split(df, df['shape']))\n",
    "    return df.iloc[train_idx], df.iloc[test_idx]"
   ]
  },
  {
   "cell_type": "code",
   "execution_count": 47,
   "metadata": {
    "colab": {
     "base_uri": "https://localhost:8080/"
    },
    "id": "efUJSVDfIzZS",
    "outputId": "43a65903-f8a2-4e9d-b80f-d1846cde67c9"
   },
   "outputs": [
    {
     "name": "stdout",
     "output_type": "stream",
     "text": [
      "(520, 14) (131, 14) (163, 14)\n"
     ]
    }
   ],
   "source": [
    "df_train_0, df_test = split_strat_shape(diamond_df)\n",
    "df_train, df_valid = split_strat_shape(df_train_0)\n",
    "print(df_train.shape, df_valid.shape, df_test.shape)"
   ]
  },
  {
   "cell_type": "code",
   "execution_count": 48,
   "metadata": {
    "colab": {
     "base_uri": "https://localhost:8080/",
     "height": 449
    },
    "id": "ekJgReq_I1Ya",
    "outputId": "24fd60cb-1201-4eec-9bbf-0277c395a293"
   },
   "outputs": [
    {
     "data": {
      "image/png": "[encoded data removed]",
      "text/plain": [
       "<Figure size 640x480 with 1 Axes>"
      ]
     },
     "metadata": {},
     "output_type": "display_data"
    }
   ],
   "source": [
    "sns.countplot(x = df_train['shape']);"
   ]
  },
  {
   "cell_type": "code",
   "execution_count": 49,
   "metadata": {
    "colab": {
     "base_uri": "https://localhost:8080/",
     "height": 449
    },
    "id": "7_BMsxxAI4Aq",
    "outputId": "32ef03f3-6ebc-458e-ff8e-5d71b24e8fb2"
   },
   "outputs": [
    {
     "data": {
      "image/png": "[encoded data removed]",
      "text/plain": [
       "<Figure size 640x480 with 1 Axes>"
      ]
     },
     "metadata": {},
     "output_type": "display_data"
    }
   ],
   "source": [
    "sns.countplot(x = df_test['shape']);"
   ]
  },
  {
   "cell_type": "markdown",
   "metadata": {
    "id": "SpcZPEgEI8Lv"
   },
   "source": [
    "Get the full path of an image and encode shape into integers"
   ]
  },
  {
   "cell_type": "code",
   "execution_count": 50,
   "metadata": {
    "colab": {
     "base_uri": "https://localhost:8080/"
    },
    "id": "2fPiGyl8I6TK",
    "outputId": "fab71011-92eb-415e-ccac-f9ccecea414b"
   },
   "outputs": [
    {
     "name": "stdout",
     "output_type": "stream",
     "text": [
      "['emerald', 'heart', 'marquise', 'oval', 'pear', 'princess', 'round']\n"
     ]
    }
   ],
   "source": [
    "shape_classes = list(diamond_df['shape'].unique())\n",
    "num_shape_classes = len(shape_classes)\n",
    "print(shape_classes)"
   ]
  },
  {
   "cell_type": "code",
   "execution_count": 51,
   "metadata": {
    "id": "7ppaKlwyI-S6"
   },
   "outputs": [],
   "source": [
    "def make_shape_df(df):\n",
    "    X_path = df['path_to_img'].map(lambda x: str(Path('/content/drive/MyDrive/Diamonds') / x))\n",
    "    Y_shape = df['shape'].map(shape_classes.index)\n",
    "    return X_path, Y_shape"
   ]
  },
  {
   "cell_type": "code",
   "execution_count": 52,
   "metadata": {
    "colab": {
     "base_uri": "https://localhost:8080/",
     "height": 121
    },
    "id": "3Cbvz3LyJIpq",
    "outputId": "ec0b9aa8-0626-4051-8c4c-a656a4414d78"
   },
   "outputs": [
    {
     "data": {
      "text/plain": [
       "11870    /content/drive/MyDrive/Diamonds/web_scraped/he...\n",
       "6693     /content/drive/MyDrive/Diamonds/web_scraped/em...\n",
       "17284    /content/drive/MyDrive/Diamonds/web_scraped/ov...\n",
       "12797    /content/drive/MyDrive/Diamonds/web_scraped/ma...\n",
       "16215    /content/drive/MyDrive/Diamonds/web_scraped/ov...\n",
       "Name: path_to_img, dtype: object"
      ]
     },
     "metadata": {},
     "output_type": "display_data"
    }
   ],
   "source": [
    "X_path_train, Y_shape_train = make_shape_df(df_train)\n",
    "display(X_path_train.head())"
   ]
  },
  {
   "cell_type": "code",
   "execution_count": 53,
   "metadata": {
    "colab": {
     "base_uri": "https://localhost:8080/",
     "height": 225
    },
    "id": "mfur-v4BJKxZ",
    "outputId": "558445bf-28fd-430e-b879-9b2f459eb523"
   },
   "outputs": [
    {
     "data": {
      "text/plain": [
       "11870    1\n",
       "6693     0\n",
       "17284    3\n",
       "12797    2\n",
       "16215    3\n",
       "        ..\n",
       "7020     0\n",
       "11985    1\n",
       "23122    4\n",
       "36668    6\n",
       "12774    2\n",
       "Name: shape, Length: 520, dtype: int64"
      ]
     },
     "metadata": {},
     "output_type": "display_data"
    }
   ],
   "source": [
    "display(Y_shape_train)"
   ]
  },
  {
   "cell_type": "markdown",
   "metadata": {
    "id": "SiGoU4CWJO6m"
   },
   "source": [
    "Convert data into Tensorflow datasets"
   ]
  },
  {
   "cell_type": "code",
   "execution_count": 54,
   "metadata": {
    "id": "snTkO8ppJNFZ"
   },
   "outputs": [],
   "source": [
    "import tensorflow as tf"
   ]
  },
  {
   "cell_type": "code",
   "execution_count": 55,
   "metadata": {
    "id": "cu6IkMipJRgp"
   },
   "outputs": [],
   "source": [
    "image_size = (256, 256)\n",
    "num_channels = 3"
   ]
  },
  {
   "cell_type": "code",
   "execution_count": 56,
   "metadata": {
    "id": "2JbzokUEJU9h"
   },
   "outputs": [],
   "source": [
    "def read_image(path):\n",
    "    img = tf.io.read_file(path)\n",
    "    img = tf.io.decode_jpeg(img, channels = num_channels)\n",
    "    img = tf.image.resize(img, image_size)\n",
    "    return img"
   ]
  },
  {
   "cell_type": "code",
   "execution_count": 57,
   "metadata": {
    "id": "03Dprpn5JW-p"
   },
   "outputs": [],
   "source": [
    "def make_shape_ds(df):\n",
    "    X_path_df, Y_shape_df = make_shape_df(df)\n",
    "    X_shape_ds = (\n",
    "        tf.data.Dataset.from_tensor_slices(X_path_df)\n",
    "        .map(read_image, num_parallel_calls = tf.data.AUTOTUNE)\n",
    "    )\n",
    "    Y_shape_ds = tf.data.Dataset.from_tensor_slices(Y_shape_df)\n",
    "    return X_shape_ds, Y_shape_ds"
   ]
  },
  {
   "cell_type": "code",
   "execution_count": 58,
   "metadata": {
    "colab": {
     "base_uri": "https://localhost:8080/"
    },
    "id": "EvaVdT4QJYhh",
    "outputId": "55e2922c-1588-4bff-ba08-9bd292e92ccf"
   },
   "outputs": [
    {
     "name": "stdout",
     "output_type": "stream",
     "text": [
      "<_ParallelMapDataset element_spec=TensorSpec(shape=(256, 256, 3), dtype=tf.float32, name=None)> <_TensorSliceDataset element_spec=TensorSpec(shape=(), dtype=tf.int64, name=None)>\n"
     ]
    }
   ],
   "source": [
    "X_shape_train, Y_shape_train = make_shape_ds(df_train)\n",
    "print(X_shape_train, Y_shape_train)"
   ]
  },
  {
   "cell_type": "markdown",
   "metadata": {
    "id": "zHG37b7RJca2"
   },
   "source": [
    "Shuffle batch, and prefetch for training"
   ]
  },
  {
   "cell_type": "code",
   "execution_count": 59,
   "metadata": {
    "id": "RD34noEwJaf5"
   },
   "outputs": [],
   "source": [
    "batch_size = 32"
   ]
  },
  {
   "cell_type": "code",
   "execution_count": 60,
   "metadata": {
    "id": "sfgW5PAGJflJ"
   },
   "outputs": [],
   "source": [
    "def prepare_ds(X_ds, Y_ds, seed = 0):\n",
    "    return (\n",
    "        tf.data.Dataset.zip(X_ds, Y_ds)\n",
    "        .shuffle(1000, seed = seed)\n",
    "        .batch(batch_size)\n",
    "        .prefetch(tf.data.AUTOTUNE)\n",
    "    )"
   ]
  },
  {
   "cell_type": "code",
   "execution_count": 61,
   "metadata": {
    "id": "zJZRLYikJnfR"
   },
   "outputs": [],
   "source": [
    "ds_shape_train = prepare_ds(*make_shape_ds(df_train))\n",
    "ds_shape_valid = prepare_ds(*make_shape_ds(df_valid))"
   ]
  },
  {
   "cell_type": "markdown",
   "metadata": {
    "id": "m_Zga562Kjfk"
   },
   "source": [
    "# Build a model"
   ]
  },
  {
   "cell_type": "markdown",
   "metadata": {
    "id": "rPW3WaK4Kqf8"
   },
   "source": [
    "Build a convolutional neural network."
   ]
  },
  {
   "cell_type": "code",
   "execution_count": 62,
   "metadata": {
    "id": "0zgLv3lyJpUA"
   },
   "outputs": [],
   "source": [
    "from tensorflow import keras\n",
    "\n",
    "keras.utils.set_random_seed(0)"
   ]
  },
  {
   "cell_type": "code",
   "execution_count": 63,
   "metadata": {
    "colab": {
     "base_uri": "https://localhost:8080/"
    },
    "id": "cfCtwXDXJrwx",
    "outputId": "fcfb798d-ffb0-4e68-8d8f-434df241e12e"
   },
   "outputs": [
    {
     "name": "stdout",
     "output_type": "stream",
     "text": [
      "Model: \"sequential_1\"\n",
      "_________________________________________________________________\n",
      " Layer (type)                Output Shape              Param #   \n",
      "=================================================================\n",
      " rescaling_1 (Rescaling)     (None, 256, 256, 3)       0         \n",
      "                                                                 \n",
      " conv2d_5 (Conv2D)           (None, 256, 256, 64)      9472      \n",
      "                                                                 \n",
      " max_pooling2d_3 (MaxPoolin  (None, 128, 128, 64)      0         \n",
      " g2D)                                                            \n",
      "                                                                 \n",
      " conv2d_6 (Conv2D)           (None, 128, 128, 128)     73856     \n",
      "                                                                 \n",
      " conv2d_7 (Conv2D)           (None, 128, 128, 128)     147584    \n",
      "                                                                 \n",
      " max_pooling2d_4 (MaxPoolin  (None, 64, 64, 128)       0         \n",
      " g2D)                                                            \n",
      "                                                                 \n",
      " conv2d_8 (Conv2D)           (None, 64, 64, 256)       295168    \n",
      "                                                                 \n",
      " conv2d_9 (Conv2D)           (None, 64, 64, 256)       590080    \n",
      "                                                                 \n",
      " max_pooling2d_5 (MaxPoolin  (None, 32, 32, 256)       0         \n",
      " g2D)                                                            \n",
      "                                                                 \n",
      " global_average_pooling2d_1  (None, 256)               0         \n",
      "  (GlobalAveragePooling2D)                                       \n",
      "                                                                 \n",
      " dense_3 (Dense)             (None, 256)               65792     \n",
      "                                                                 \n",
      " batch_normalization_2 (Bat  (None, 256)               1024      \n",
      " chNormalization)                                                \n",
      "                                                                 \n",
      " activation_2 (Activation)   (None, 256)               0         \n",
      "                                                                 \n",
      " dropout_2 (Dropout)         (None, 256)               0         \n",
      "                                                                 \n",
      " dense_4 (Dense)             (None, 256)               65792     \n",
      "                                                                 \n",
      " batch_normalization_3 (Bat  (None, 256)               1024      \n",
      " chNormalization)                                                \n",
      "                                                                 \n",
      " activation_3 (Activation)   (None, 256)               0         \n",
      "                                                                 \n",
      " dropout_3 (Dropout)         (None, 256)               0         \n",
      "                                                                 \n",
      " dense_5 (Dense)             (None, 7)                 1799      \n",
      "                                                                 \n",
      "=================================================================\n",
      "Total params: 1251591 (4.77 MB)\n",
      "Trainable params: 1250567 (4.77 MB)\n",
      "Non-trainable params: 1024 (4.00 KB)\n",
      "_________________________________________________________________\n"
     ]
    }
   ],
   "source": [
    "model_shape = keras.Sequential(\n",
    "    layers = [\n",
    "        keras.layers.Input(shape = (*image_size, num_channels)),\n",
    "        keras.layers.Rescaling(2. / 255., offset = -1.),\n",
    "\n",
    "        keras.layers.Conv2D(\n",
    "            64, 7,\n",
    "            padding = 'same',\n",
    "            activation = 'relu',\n",
    "        ),\n",
    "        keras.layers.MaxPooling2D(),\n",
    "\n",
    "        *[\n",
    "            l\n",
    "            for s in [\n",
    "                [\n",
    "                    *[\n",
    "                        keras.layers.Conv2D(\n",
    "                            128 * (2 ** i), 3,\n",
    "                            padding = 'same',\n",
    "                            activation = 'relu',\n",
    "                        )\n",
    "                        for _ in range(2)\n",
    "                    ],\n",
    "                    keras.layers.MaxPooling2D(),\n",
    "                ]\n",
    "                for i in range(2)\n",
    "            ]\n",
    "            for l in s\n",
    "        ],\n",
    "\n",
    "        keras.layers.GlobalAveragePooling2D(),\n",
    "\n",
    "        *[\n",
    "            l\n",
    "            for s in [\n",
    "                [\n",
    "                    keras.layers.Dense(256),\n",
    "                    keras.layers.BatchNormalization(),\n",
    "                    keras.layers.Activation('relu'),\n",
    "                    keras.layers.Dropout(0.5),\n",
    "                ]\n",
    "                for _ in range(2)\n",
    "            ]\n",
    "            for l in s\n",
    "        ],\n",
    "\n",
    "        keras.layers.Dense(num_shape_classes, activation = 'softmax'),\n",
    "    ]\n",
    ")\n",
    "model_shape.summary()"
   ]
  },
  {
   "cell_type": "markdown",
   "metadata": {
    "id": "DuSqc_yHK1bE"
   },
   "source": [
    "# Train the model"
   ]
  },
  {
   "cell_type": "code",
   "execution_count": 77,
   "metadata": {
    "id": "o86-XkSFKwjf"
   },
   "outputs": [],
   "source": [
    "model_shape.compile(\n",
    "    optimizer = 'adam',\n",
    "    loss = 'sparse_categorical_crossentropy',\n",
    "    metrics = ['sparse_categorical_accuracy'],\n",
    ")"
   ]
  },
  {
   "cell_type": "markdown",
   "metadata": {
    "id": "vnpiBhhkK9eT"
   },
   "source": [
    "Specify class weights.\n"
   ]
  },
  {
   "cell_type": "code",
   "execution_count": 65,
   "metadata": {
    "colab": {
     "base_uri": "https://localhost:8080/"
    },
    "id": "lSldcrC1K7zn",
    "outputId": "26b89e9c-d531-4524-d2cb-252b9416cdbf"
   },
   "outputs": [
    {
     "name": "stdout",
     "output_type": "stream",
     "text": [
      "{0: 3.768518518518518, 1: 2.8865248226950353, 2: 3.9901960784313726, 3: 3.1068702290076335, 4: 4.284210526315789, 5: 3.0373134328358207, 6: 3.9514563106796112}\n"
     ]
    }
   ],
   "source": [
    "shape_counts = diamond_df['shape'].value_counts()\n",
    "shape_class_weights = {\n",
    "    i: (1. / shape_counts[c]) * (diamond_df.shape[0] / 2.)\n",
    "    for i, c in enumerate(shape_classes)\n",
    "}\n",
    "print(shape_class_weights)"
   ]
  },
  {
   "cell_type": "code",
   "execution_count": 66,
   "metadata": {
    "colab": {
     "base_uri": "https://localhost:8080/"
    },
    "id": "reOQXhBoLAx_",
    "outputId": "c62b88f9-6510-4aa8-83e7-4b8a02c40f40"
   },
   "outputs": [
    {
     "name": "stdout",
     "output_type": "stream",
     "text": [
      "Epoch 1/10\n",
      "17/17 [==============================] - 684s 40s/step - loss: 6.7394 - sparse_categorical_accuracy: 0.2865 - val_loss: 2.8528 - val_sparse_categorical_accuracy: 0.1221\n",
      "Epoch 2/10\n",
      "17/17 [==============================] - 677s 40s/step - loss: 6.1131 - sparse_categorical_accuracy: 0.3404 - val_loss: 5.1874 - val_sparse_categorical_accuracy: 0.2061\n"
     ]
    }
   ],
   "source": [
    "history = model_shape.fit(\n",
    "    ds_shape_train,\n",
    "    validation_data=ds_shape_valid,\n",
    "    epochs=10,  # Reduce the number of epochs\n",
    "    callbacks=[\n",
    "        keras.callbacks.EarlyStopping(patience=1, restore_best_weights=True),  # Increase patience\n",
    "    ],\n",
    "    class_weight=shape_class_weights,\n",
    ")\n",
    "\n",
    "# Save the model manually after training\n",
    "model_shape.save('cnn_1.tf')"
   ]
  },
  {
   "cell_type": "markdown",
   "metadata": {
    "id": "uNoWtSteWKxB"
   },
   "source": [
    "# Evaluate the model"
   ]
  },
  {
   "cell_type": "code",
   "execution_count": 67,
   "metadata": {
    "colab": {
     "base_uri": "https://localhost:8080/",
     "height": 432
    },
    "id": "b6GiLq5KLStN",
    "outputId": "0adf6f62-06a1-41ca-c957-38cf17131f23"
   },
   "outputs": [
    {
     "data": {
      "image/png": "[encoded data removed]",
      "text/plain": [
       "<Figure size 640x480 with 1 Axes>"
      ]
     },
     "metadata": {},
     "output_type": "display_data"
    }
   ],
   "source": [
    "pd.DataFrame(history.history).plot();"
   ]
  },
  {
   "cell_type": "code",
   "execution_count": 68,
   "metadata": {
    "id": "3JGq9kuiWOkN"
   },
   "outputs": [],
   "source": [
    "X_shape_test, Y_shape_test = make_shape_ds(df_test)\n",
    "ds_shape_test = (\n",
    "    tf.data.Dataset.zip(X_shape_test, Y_shape_test)\n",
    "    .batch(batch_size)\n",
    "    .prefetch(tf.data.AUTOTUNE)\n",
    ")"
   ]
  },
  {
   "cell_type": "code",
   "execution_count": 69,
   "metadata": {
    "colab": {
     "base_uri": "https://localhost:8080/"
    },
    "id": "llxi4PWoWR8E",
    "outputId": "d13b9aef-8e09-48d7-96a8-85fede340b26"
   },
   "outputs": [
    {
     "name": "stdout",
     "output_type": "stream",
     "text": [
      "6/6 [==============================] - 57s 9s/step - loss: 2.8553 - sparse_categorical_accuracy: 0.1288\n",
      "[2.85530948638916, 0.12883435189723969]\n"
     ]
    }
   ],
   "source": [
    "print(model_shape.evaluate(ds_shape_test))"
   ]
  },
  {
   "cell_type": "code",
   "execution_count": 70,
   "metadata": {
    "colab": {
     "base_uri": "https://localhost:8080/"
    },
    "id": "-vRTmfTRWUeb",
    "outputId": "c210581d-82c5-495a-e2ad-91ef5d83851f"
   },
   "outputs": [
    {
     "name": "stdout",
     "output_type": "stream",
     "text": [
      "6/6 [==============================] - 59s 9s/step\n",
      "[6 6 6 6 6 6 6 6 6 6 6 6 6 6 6 6 6 6 6 6 6 6 6 6 6 6 6 6 6 6 6 6 6 6 6 6 6\n",
      " 6 6 6 6 6 6 6 6 6 6 6 6 6 6 6 6 6 6 6 6 6 6 6 6 6 6 6 6 6 6 6 6 6 6 6 6 6\n",
      " 6 6 6 6 6 6 6 6 6 6 6 6 6 6 6 6 6 6 6 6 6 6 6 6 6 6 6 6 6 6 6 6 6 6 6 6 6\n",
      " 6 6 6 6 6 6 6 6 6 6 6 6 6 6 6 6 6 6 6 6 6 6 6 6 6 6 6 6 6 6 6 6 6 6 6 6 6\n",
      " 6 6 6 6 6 6 6 6 6 6 6 6 6 6 6]\n"
     ]
    }
   ],
   "source": [
    "Y_shape_proba = model_shape.predict(ds_shape_test)\n",
    "Y_shape_pred = Y_shape_proba.argmax(axis = 1)\n",
    "print(Y_shape_pred)"
   ]
  },
  {
   "cell_type": "code",
   "execution_count": 72,
   "metadata": {
    "colab": {
     "base_uri": "https://localhost:8080/"
    },
    "id": "_nZrif_kXTEP",
    "outputId": "4ce322c2-a56a-467e-c68f-470c66a9f423"
   },
   "outputs": [
    {
     "name": "stdout",
     "output_type": "stream",
     "text": [
      "[0 1 2 6 5 1 2 5 4 2 5 4 3 1 3 1 0 2 5 5 2 0 3 6 0 4 5 4 3 5 2 1 5 1 0 1 6\n",
      " 0 5 2 2 4 5 0 1 1 1 4 5 5 6 3 2 2 6 1 6 2 5 0 3 2 1 3 4 4 2 4 3 2 6 0 5 6\n",
      " 5 1 1 3 1 1 5 1 0 3 0 5 1 0 6 1 6 5 0 3 1 1 2 1 6 4 0 6 2 3 1 6 3 4 4 5 0\n",
      " 5 6 1 1 2 3 5 0 6 0 4 1 3 4 5 0 3 3 4 5 3 4 5 1 2 0 6 4 3 3 6 0 5 6 6 1 4\n",
      " 6 3 2 0 4 6 3 3 3 3 2 0 3 5 5]\n"
     ]
    }
   ],
   "source": [
    "import numpy as np\n",
    "\n",
    "Y_shape_true = np.asarray(list(Y_shape_test))\n",
    "print(Y_shape_true)"
   ]
  },
  {
   "cell_type": "code",
   "execution_count": 73,
   "metadata": {
    "colab": {
     "base_uri": "https://localhost:8080/",
     "height": 500
    },
    "id": "agMALQ7XYGih",
    "outputId": "c3cfff74-ce9a-43ba-eb5e-41a7bf73bd5b"
   },
   "outputs": [
    {
     "data": {
      "image/png": "[encoded data removed]",
      "text/plain": [
       "<Figure size 640x480 with 2 Axes>"
      ]
     },
     "metadata": {},
     "output_type": "display_data"
    }
   ],
   "source": [
    "from sklearn.metrics import ConfusionMatrixDisplay\n",
    "\n",
    "ConfusionMatrixDisplay.from_predictions(\n",
    "    Y_shape_true, Y_shape_pred,\n",
    "    display_labels = shape_classes,\n",
    "    xticks_rotation = 'vertical',\n",
    ");"
   ]
  },
  {
   "cell_type": "code",
   "execution_count": null,
   "metadata": {
    "id": "6OrKrp-yYNOJ"
   },
   "outputs": [],
   "source": []
  }
 ],
 "metadata": {
  "accelerator": "GPU",
  "colab": {
   "gpuType": "T4",
   "provenance": []
  },
  "kernelspec": {
   "display_name": "Python 3 (ipykernel)",
   "language": "python",
   "name": "python3"
  },
  "language_info": {
   "codemirror_mode": {
    "name": "ipython",
    "version": 3
   },
   "file_extension": ".py",
   "mimetype": "text/x-python",
   "name": "python",
   "nbconvert_exporter": "python",
   "pygments_lexer": "ipython3",
   "version": "3.11.4"
  }
 },
 "nbformat": 4,
 "nbformat_minor": 1
}
